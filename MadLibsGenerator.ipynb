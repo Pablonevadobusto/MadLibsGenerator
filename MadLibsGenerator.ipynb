{
 "cells": [
  {
   "cell_type": "code",
   "execution_count": 13,
   "metadata": {},
   "outputs": [
    {
     "name": "stdout",
     "output_type": "stream",
     "text": [
      "Today a carer named chair came to our school to talk to us about her job. She said the most important skill you need to know to do her job is to be able to jump around a sticky computer.\n",
      "She said it was easy for her to learn her job because she loved to watch when she was my age--and that helps a lot! If you're considering her profession, I hope you can be near a coloured printer.\n",
      "That's very important! If you get too distracted in that situation you won't be able to pull next to a cup!\n"
     ]
    }
   ],
   "source": [
    "############################################################################### MAD LIBS GENERATOR ###############################################################################\n",
    "\n",
    "# setting the variables up\n",
    "Occupation = input(\"Occupation\")\n",
    "Noun = input(\"Noun\").capitalize()   # Capitalises the first letter of the word\n",
    "Adjective = input(\"Adjective\")\n",
    "Noun1 = input(\"Noun\")\n",
    "Verb = input(\"Verb\")\n",
    "Adjective1 = input(\"Adjective\")\n",
    "Noun2 = input(\"Noun\")\n",
    "Verb1 = input(\"Verb\")\n",
    "Noun3 = input(\"Noun\")\n",
    "Verb2 = input(\"Verb\")\n",
    "\n",
    "# Printing and formatting the output\n",
    "print(f\"Today a {Occupation} named {Noun} came to our school to talk to us about her job. She said the most important skill you need to know to do her job is to be able to {Verb} around a {Adjective} {Noun1}.\\n\"\n",
    "f\"She said it was easy for her to learn her job because she loved to {Verb1} when she was my age--and that helps a lot! If you're considering her profession, I hope you can be near a {Adjective1} {Noun2}.\\n\" \n",
    "f\"That's very important! If you get too distracted in that situation you won't be able to {Verb2} next to a {Noun3}!\")\n",
    "\n"
   ]
  }
 ],
 "metadata": {
  "kernelspec": {
   "display_name": "Python 3",
   "language": "python",
   "name": "python3"
  },
  "language_info": {
   "codemirror_mode": {
    "name": "ipython",
    "version": 3
   },
   "file_extension": ".py",
   "mimetype": "text/x-python",
   "name": "python",
   "nbconvert_exporter": "python",
   "pygments_lexer": "ipython3",
   "version": "3.11.0 (main, Oct 24 2022, 18:26:48) [MSC v.1933 64 bit (AMD64)]"
  },
  "orig_nbformat": 4,
  "vscode": {
   "interpreter": {
    "hash": "ebfc0a8d552866b0d59eba665220a57de3bc06f3ac643b8bef38dd8f66781fdd"
   }
  }
 },
 "nbformat": 4,
 "nbformat_minor": 2
}
